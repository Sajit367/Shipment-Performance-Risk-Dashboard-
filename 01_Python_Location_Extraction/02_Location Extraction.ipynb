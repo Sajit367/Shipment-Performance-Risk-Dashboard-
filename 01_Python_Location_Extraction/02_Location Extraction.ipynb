{
 "cells": [
  {
   "cell_type": "code",
   "execution_count": null,
   "id": "71251522-5f65-44b7-9397-55492ff67f42",
   "metadata": {},
   "outputs": [],
   "source": [
    "import pandas as pd\n",
    "import reverse_geocoder as rg\n",
    "\n",
    "df = pd.read_csv('C:/Users/HP/Desktop/telemetry_latlong.csv')\n",
    "\n",
    "coords = list(zip(df['vehicle_lat'], df['vehicle_long']))\n",
    "\n",
    "results = rg.search(coords, mode=2)\n",
    "\n",
    "df['nearest_city'] = [r['name'] for r in results]\n",
    "df['state_admin1'] = [r['admin1'] for r in results]\n",
    "df['country_code'] = [r['cc'] for r in results]\n",
    "\n",
    "output_path = 'C:/Users/HP/Desktop/lat_long_with_locations.csv'\n",
    "df.to_csv(output_path, index=False)\n",
    "print(f\"Done! Saved to '{output_path}'\")\n",
    "\n",
    "print(\"\\nTop states by count:\")\n",
    "print(df['state_admin1'].value_counts().head(10))\n",
    "\n",
    "df.head()\n"
   ]
  }
 ],
 "metadata": {
  "kernelspec": {
   "display_name": "Python 3 (ipykernel)",
   "language": "python",
   "name": "python3"
  },
  "language_info": {
   "codemirror_mode": {
    "name": "ipython",
    "version": 3
   },
   "file_extension": ".py",
   "mimetype": "text/x-python",
   "name": "python",
   "nbconvert_exporter": "python",
   "pygments_lexer": "ipython3",
   "version": "3.12.7"
  }
 },
 "nbformat": 4,
 "nbformat_minor": 5
}
